{
 "cells": [
  {
   "cell_type": "markdown",
   "metadata": {},
   "source": [
    "\n",
    "<img src=\"../../img/ods_stickers.jpg\">\n",
    "\n",
    "## <center> [mlcourse.ai](https://mlcourse.ai) – открытый курс OpenDataScience по машинному обучению \n",
    "\n",
    "    \n",
    "Автор материала: Ольга Дайховская (@aiho в Slack ODS). Материал распространяется на условиях лицензии [Creative Commons CC BY-NC-SA 4.0](https://creativecommons.org/licenses/by-nc-sa/4.0/). Можно использовать в любых целях (редактировать, поправлять и брать за основу), кроме коммерческих, но с обязательным упоминанием автора материала"
   ]
  },
  {
   "cell_type": "markdown",
   "metadata": {},
   "source": [
    "# <center> Домашнее задание № 4 (демо).\n",
    "## <center>  Прогнозирование популярности статей на TechMedia (Хабр) с помощью линейных моделей\n",
    "    \n",
    "**В задании Вам предлагается разобраться с тем, как работает TfidfVectorizer и DictVectorizer, затем обучить и настроить модель линейной регрессии Ridge на данных о публикациях на Хабрахабре. Пройдя все шаги, вы сможете получить бейзлайн для [соревнования](https://www.kaggle.com/c/howpop-habrahabr-favs-lognorm) (несмотря на old в названии, для этого задания соревнование актуально). \n",
    "Ответьте на все вопросы в этой тетрадке и заполните ответы в [гугл-форме](https://docs.google.com/forms/d/1gPt401drm84N2kdezwGWtPJN_JpaFqXoh6IwlWOslb4).**"
   ]
  },
  {
   "cell_type": "markdown",
   "metadata": {},
   "source": [
    "**TF-IDF (от англ. TF — term frequency, IDF — inverse document frequency)**"
   ]
  },
  {
   "cell_type": "markdown",
   "metadata": {},
   "source": [
    "**Описание соревнования**\n",
    "\n",
    "Предскажите, как много звездочек наберет статья, зная только ее текст и время публикации\n",
    "\n",
    "Необходимо предсказать популярность поста на Хабре по содержанию и времени публикации. Как известно, пользователи Хабра могут добавлять статьи к себе в избранное. Общее количество пользователей, которое это сделали отображается у статьи количеством звездочек. Будем считать, что число звездочек, поставленных статье, наиболее хорошо отражает ее популярность.\n",
    "\n",
    "Более формально, в качестве метрики популярности статьи будем использовать долю статей за последний месяц, у которых количество звездочек меньше чем у текущей статьи. А точнее, доле числа звездочек можно поставить в соответствие квантили стандартного распределения, таким образом получаем числовую характеристику популярности статьи. Популярность статьи 0 означает, что статья получила ровно столько звездочек, сколько в среднем получают статьи. И соответственно чем больше звездочек получила статья по сравнению со средним, тем выше это число."
   ]
  },
  {
   "cell_type": "markdown",
   "metadata": {},
   "source": [
    "**Приступим:** импортируем необходимые библиотеки и скачаем данные"
   ]
  },
  {
   "cell_type": "code",
   "execution_count": 229,
   "metadata": {},
   "outputs": [],
   "source": [
    "import numpy as np\n",
    "import pandas as pd\n",
    "import scipy\n",
    "import seaborn as sns\n",
    "from sklearn.feature_extraction import DictVectorizer\n",
    "from sklearn.feature_extraction.text import TfidfVectorizer\n",
    "from sklearn.linear_model import Ridge\n",
    "from sklearn.metrics import mean_squared_error\n",
    "from sklearn.model_selection import train_test_split\n",
    "from matplotlib import pyplot as plt\n",
    "from datetime import datetime\n",
    "from sklearn.feature_extraction.text import CountVectorizer, TfidfTransformer, TfidfVectorizer\n",
    "from sklearn.linear_model import LogisticRegression, Ridge\n",
    "from sklearn.svm import LinearSVC"
   ]
  },
  {
   "cell_type": "markdown",
   "metadata": {},
   "source": [
    "Скачайте [данные](https://drive.google.com/file/d/1nV2qV9otN3LnVSDqy95hvpJdb6aWtATk/view?usp=sharing) соревнования (данные были удалены с Kaggle ради организации последующего идентичного соревнования, так что тут ссылка на Google Drive)."
   ]
  },
  {
   "cell_type": "code",
   "execution_count": 34,
   "metadata": {},
   "outputs": [],
   "source": [
    "# при необходимости поменяйте путь к данным \n",
    "train_df = pd.read_csv('../data/howpop_train.csv')\n",
    "test_df  = pd.read_csv('../data/howpop_test.csv')"
   ]
  },
  {
   "cell_type": "code",
   "execution_count": 35,
   "metadata": {},
   "outputs": [
    {
     "data": {
      "text/html": [
       "<div>\n",
       "<style scoped>\n",
       "    .dataframe tbody tr th:only-of-type {\n",
       "        vertical-align: middle;\n",
       "    }\n",
       "\n",
       "    .dataframe tbody tr th {\n",
       "        vertical-align: top;\n",
       "    }\n",
       "\n",
       "    .dataframe thead th {\n",
       "        text-align: right;\n",
       "    }\n",
       "</style>\n",
       "<table border=\"1\" class=\"dataframe\">\n",
       "  <thead>\n",
       "    <tr style=\"text-align: right;\">\n",
       "      <th></th>\n",
       "      <th>0</th>\n",
       "    </tr>\n",
       "  </thead>\n",
       "  <tbody>\n",
       "    <tr>\n",
       "      <th>url</th>\n",
       "      <td>https://habrahabr.ru/post/18284/</td>\n",
       "    </tr>\n",
       "    <tr>\n",
       "      <th>domain</th>\n",
       "      <td>habrahabr.ru</td>\n",
       "    </tr>\n",
       "    <tr>\n",
       "      <th>post_id</th>\n",
       "      <td>18284</td>\n",
       "    </tr>\n",
       "    <tr>\n",
       "      <th>published</th>\n",
       "      <td>2008-01-01 18:19:00</td>\n",
       "    </tr>\n",
       "    <tr>\n",
       "      <th>author</th>\n",
       "      <td>@Tapac</td>\n",
       "    </tr>\n",
       "    <tr>\n",
       "      <th>flow</th>\n",
       "      <td>develop</td>\n",
       "    </tr>\n",
       "    <tr>\n",
       "      <th>polling</th>\n",
       "      <td>False</td>\n",
       "    </tr>\n",
       "    <tr>\n",
       "      <th>content_len</th>\n",
       "      <td>4305</td>\n",
       "    </tr>\n",
       "    <tr>\n",
       "      <th>title</th>\n",
       "      <td>Новогодний подарок блоггерам — WordPress 2.3.2</td>\n",
       "    </tr>\n",
       "    <tr>\n",
       "      <th>comments</th>\n",
       "      <td>0</td>\n",
       "    </tr>\n",
       "    <tr>\n",
       "      <th>favs</th>\n",
       "      <td>0</td>\n",
       "    </tr>\n",
       "    <tr>\n",
       "      <th>views</th>\n",
       "      <td>236</td>\n",
       "    </tr>\n",
       "    <tr>\n",
       "      <th>votes_plus</th>\n",
       "      <td>0.0</td>\n",
       "    </tr>\n",
       "    <tr>\n",
       "      <th>votes_minus</th>\n",
       "      <td>0.0</td>\n",
       "    </tr>\n",
       "    <tr>\n",
       "      <th>views_lognorm</th>\n",
       "      <td>-0.792687</td>\n",
       "    </tr>\n",
       "    <tr>\n",
       "      <th>favs_lognorm</th>\n",
       "      <td>-1.344075</td>\n",
       "    </tr>\n",
       "    <tr>\n",
       "      <th>comments_lognorm</th>\n",
       "      <td>-2.436871</td>\n",
       "    </tr>\n",
       "  </tbody>\n",
       "</table>\n",
       "</div>"
      ],
      "text/plain": [
       "                                                               0\n",
       "url                             https://habrahabr.ru/post/18284/\n",
       "domain                                              habrahabr.ru\n",
       "post_id                                                    18284\n",
       "published                                    2008-01-01 18:19:00\n",
       "author                                                    @Tapac\n",
       "flow                                                     develop\n",
       "polling                                                    False\n",
       "content_len                                                 4305\n",
       "title             Новогодний подарок блоггерам — WordPress 2.3.2\n",
       "comments                                                       0\n",
       "favs                                                           0\n",
       "views                                                        236\n",
       "votes_plus                                                   0.0\n",
       "votes_minus                                                  0.0\n",
       "views_lognorm                                          -0.792687\n",
       "favs_lognorm                                           -1.344075\n",
       "comments_lognorm                                       -2.436871"
      ]
     },
     "execution_count": 35,
     "metadata": {},
     "output_type": "execute_result"
    }
   ],
   "source": [
    "train_df.head(1).T"
   ]
  },
  {
   "cell_type": "code",
   "execution_count": 255,
   "metadata": {},
   "outputs": [
    {
     "data": {
      "text/plain": [
       "((134137, 17), (3990, 9))"
      ]
     },
     "execution_count": 255,
     "metadata": {},
     "output_type": "execute_result"
    }
   ],
   "source": [
    "train_df.shape, test_df.shape"
   ]
  },
  {
   "cell_type": "markdown",
   "metadata": {},
   "source": [
    "Убедимся, что данные отсортированы по признаку `published`"
   ]
  },
  {
   "cell_type": "code",
   "execution_count": 36,
   "metadata": {},
   "outputs": [
    {
     "data": {
      "image/png": "[encoded data removed]",
      "text/plain": [
       "<Figure size 432x288 with 1 Axes>"
      ]
     },
     "metadata": {
      "needs_background": "light"
     },
     "output_type": "display_data"
    }
   ],
   "source": [
    "train_df['published'].apply(lambda ts: pd.to_datetime(ts).value).plot();"
   ]
  },
  {
   "cell_type": "markdown",
   "metadata": {},
   "source": [
    "**Чтобы ответить на вопросы 1 и 2, можно использовать [pandas.DataFrame.corr()](http://pandas.pydata.org/pandas-docs/stable/generated/pandas.DataFrame.corr.html), [pandas.to_datetime()](http://pandas.pydata.org/pandas-docs/stable/generated/pandas.to_datetime.html) и [pandas.Series.value_counts()](http://pandas.pydata.org/pandas-docs/stable/generated/pandas.Series.value_counts.html)**"
   ]
  },
  {
   "cell_type": "markdown",
   "metadata": {},
   "source": [
    "<font color='red'>Вопрос 1.</font> Есть ли в train_df признаки, корреляция между которыми больше 0.9? Обратите внимание, именно различные признаки - корреляция признака с самим собой естественно больше 0.9 :)\n",
    "- да\n",
    "- нет\n",
    "- не знаю"
   ]
  },
  {
   "cell_type": "code",
   "execution_count": 38,
   "metadata": {},
   "outputs": [
    {
     "data": {
      "image/png": "[encoded data removed]",
      "text/plain": [
       "<Figure size 432x288 with 2 Axes>"
      ]
     },
     "metadata": {
      "needs_background": "light"
     },
     "output_type": "display_data"
    }
   ],
   "source": [
    "sns.heatmap(abs(train_df.corr()) > 0.9, cmap=\"Blues\");"
   ]
  },
  {
   "cell_type": "markdown",
   "metadata": {},
   "source": [
    "**Ответ: нет**"
   ]
  },
  {
   "cell_type": "markdown",
   "metadata": {},
   "source": [
    "<font color='red'>Вопрос 2.</font> В каком году было больше всего публикаций? (Рассматриваем train_df)\n",
    "- 2014\n",
    "- 2015\n",
    "- 2016\n",
    "- 2017"
   ]
  },
  {
   "cell_type": "code",
   "execution_count": 39,
   "metadata": {},
   "outputs": [],
   "source": [
    "def create_year(dt):\n",
    "    return datetime.fromisoformat(dt).year\n",
    "\n",
    "years = train_df['published'].apply(create_year)"
   ]
  },
  {
   "cell_type": "code",
   "execution_count": 44,
   "metadata": {},
   "outputs": [
    {
     "name": "stdout",
     "output_type": "stream",
     "text": [
      "Больше всего публикаций было в 2015\n"
     ]
    }
   ],
   "source": [
    "print(f\"Больше всего публикаций было в {pd.DataFrame(data={'year' : years})['year'].mode()[0]}\")"
   ]
  },
  {
   "cell_type": "markdown",
   "metadata": {},
   "source": [
    "**Ответ: 2015**"
   ]
  },
  {
   "cell_type": "markdown",
   "metadata": {},
   "source": [
    "## Разбиение на train/valid\n",
    "Используем только признаки 'author', 'flow', 'domain' и 'title'"
   ]
  },
  {
   "cell_type": "code",
   "execution_count": 256,
   "metadata": {},
   "outputs": [],
   "source": [
    "features = ['author', 'flow', 'domain','title']\n",
    "train_size = int(0.7 * train_df.shape[0])"
   ]
  },
  {
   "cell_type": "code",
   "execution_count": 257,
   "metadata": {},
   "outputs": [
    {
     "data": {
      "text/plain": [
       "(134137, 93895)"
      ]
     },
     "execution_count": 257,
     "metadata": {},
     "output_type": "execute_result"
    }
   ],
   "source": [
    "len(train_df), train_size"
   ]
  },
  {
   "cell_type": "code",
   "execution_count": 258,
   "metadata": {},
   "outputs": [],
   "source": [
    "#отделяем признаки от целевой переменной\n",
    "X, y = train_df.loc[:, features],  train_df['favs_lognorm']\n",
    "\n",
    "X_test = test_df.loc[:, features]"
   ]
  },
  {
   "cell_type": "code",
   "execution_count": 259,
   "metadata": {},
   "outputs": [],
   "source": [
    "X_train, X_valid = X.iloc[:train_size, :], X.iloc[train_size:,:]\n",
    "y_train, y_valid = y.iloc[:train_size], y.iloc[train_size:]"
   ]
  },
  {
   "cell_type": "code",
   "execution_count": 260,
   "metadata": {},
   "outputs": [
    {
     "data": {
      "text/html": [
       "<div>\n",
       "<style scoped>\n",
       "    .dataframe tbody tr th:only-of-type {\n",
       "        vertical-align: middle;\n",
       "    }\n",
       "\n",
       "    .dataframe tbody tr th {\n",
       "        vertical-align: top;\n",
       "    }\n",
       "\n",
       "    .dataframe thead th {\n",
       "        text-align: right;\n",
       "    }\n",
       "</style>\n",
       "<table border=\"1\" class=\"dataframe\">\n",
       "  <thead>\n",
       "    <tr style=\"text-align: right;\">\n",
       "      <th></th>\n",
       "      <th>0</th>\n",
       "      <th>1</th>\n",
       "      <th>2</th>\n",
       "    </tr>\n",
       "  </thead>\n",
       "  <tbody>\n",
       "    <tr>\n",
       "      <th>author</th>\n",
       "      <td>@Tapac</td>\n",
       "      <td>@DezmASter</td>\n",
       "      <td>@DezmASter</td>\n",
       "    </tr>\n",
       "    <tr>\n",
       "      <th>flow</th>\n",
       "      <td>develop</td>\n",
       "      <td>design</td>\n",
       "      <td>design</td>\n",
       "    </tr>\n",
       "    <tr>\n",
       "      <th>domain</th>\n",
       "      <td>habrahabr.ru</td>\n",
       "      <td>habrahabr.ru</td>\n",
       "      <td>habrahabr.ru</td>\n",
       "    </tr>\n",
       "    <tr>\n",
       "      <th>title</th>\n",
       "      <td>Новогодний подарок блоггерам — WordPress 2.3.2</td>\n",
       "      <td>Сумасшедшие яйца, или сервис для отслеживания ...</td>\n",
       "      <td>Сумасшедшие яйца, или сервис для отслеживания ...</td>\n",
       "    </tr>\n",
       "  </tbody>\n",
       "</table>\n",
       "</div>"
      ],
      "text/plain": [
       "                                                     0  \\\n",
       "author                                          @Tapac   \n",
       "flow                                           develop   \n",
       "domain                                    habrahabr.ru   \n",
       "title   Новогодний подарок блоггерам — WordPress 2.3.2   \n",
       "\n",
       "                                                        1  \\\n",
       "author                                         @DezmASter   \n",
       "flow                                               design   \n",
       "domain                                       habrahabr.ru   \n",
       "title   Сумасшедшие яйца, или сервис для отслеживания ...   \n",
       "\n",
       "                                                        2  \n",
       "author                                         @DezmASter  \n",
       "flow                                               design  \n",
       "domain                                       habrahabr.ru  \n",
       "title   Сумасшедшие яйца, или сервис для отслеживания ...  "
      ]
     },
     "execution_count": 260,
     "metadata": {},
     "output_type": "execute_result"
    }
   ],
   "source": [
    "X_train.head(3).T"
   ]
  },
  {
   "cell_type": "markdown",
   "metadata": {},
   "source": [
    "## Применение TfidfVectorizer\n",
    "\n",
    "**TF-IDF** (от англ. TF — term frequency, IDF — inverse document frequency) — статистическая мера, используемая для оценки важности слова в контексте документа, являющегося частью коллекции документов или корпуса. Вес некоторого слова пропорционален количеству употребления этого слова в документе, и обратно пропорционален частоте употребления слова в других документах коллекции. [Подробнее в источнике](https://ru.wikipedia.org/wiki/TF-IDF)\n",
    "\n",
    "TfidfVectorizer преобразует тексты в матрицу TF-IDF признаков.\n",
    "\n",
    "**Основные параметры TfidfVectorizer в sklearn:**\n",
    "- **min_df** - при построении словаря слова, которые встречаются *реже*, чем указанное значение, игнорируются\n",
    "- **max_df** - при построении словаря слова, которые встречаются *чаще*, чем указанное значение, игнорируются\n",
    "- **analyzer** - определяет, строятся ли признаки по словам или по символам (буквам)\n",
    "- **ngram_range** - определяет, формируются ли признаки только из отдельных слов или из нескольких слов (в случае с analyzer='char' задает количество символов). Например, если указать analyzer='word' и ngram_range=(1,3),то признаки будут формироваться из отдельных слов, из пар слов и из троек слов.\n",
    "- **stop_words** - слова, которые игнорируются при построении матрицы\n",
    "\n",
    "Более подробно с параметрами можно ознакомиться в [документации](http://scikit-learn.org/stable/modules/generated/sklearn.feature_extraction.text.TfidfVectorizer.html)"
   ]
  },
  {
   "cell_type": "markdown",
   "metadata": {},
   "source": [
    "**Инициализируйте TfidfVectorizer с параметрами min_df=3, max_df=0.3 и ngram_range=(1, 3).<br />\n",
    "Примените метод fit_transform к X_train['title'] и метод transform к X_valid['title'] и X_test['title']**"
   ]
  },
  {
   "cell_type": "markdown",
   "metadata": {},
   "source": [
    "<font color='red'>Вопрос 3.</font> Какой размер у полученного словаря?\n",
    "- 43789\n",
    "- 50624\n",
    "- 93895\n",
    "- 74378"
   ]
  },
  {
   "cell_type": "code",
   "execution_count": 273,
   "metadata": {},
   "outputs": [],
   "source": [
    "vectorizer = TfidfVectorizer(min_df=3, max_df=0.3 , ngram_range=(1, 3))\n",
    "\n",
    "X_train_title = vectorizer.fit_transform(X_train['title'])\n",
    "X_valid_title = vectorizer.transform(X_valid['title'])\n",
    "X_test_title = vectorizer.transform(X_test['title'])"
   ]
  },
  {
   "cell_type": "code",
   "execution_count": 274,
   "metadata": {},
   "outputs": [
    {
     "data": {
      "text/plain": [
       "{'новогодний': 31497,\n",
       " 'подарок': 36257,\n",
       " 'блоггерам': 14241,\n",
       " 'wordpress': 12172,\n",
       " 'новогодний подарок': 31499,\n",
       " 'сумасшедшие': 45476,\n",
       " 'яйца': 50489,\n",
       " 'или': 22661,\n",
       " 'сервис': 42745,\n",
       " 'для': 18811,\n",
       " 'отслеживания': 34225,\n",
       " 'посетителей': 37373,\n",
       " 'или сервис': 22833,\n",
       " 'сервис для': 42751,\n",
       " 'для отслеживания': 19413,\n",
       " 'или сервис для': 22834,\n",
       " 'сервис для отслеживания': 42753,\n",
       " 'сглаживание': 42460,\n",
       " 'шрифтов': 49862,\n",
       " 'отрисовка': 34214,\n",
       " 'сглаживание шрифтов': 42461,\n",
       " 'почему': 37632,\n",
       " 'мне': 28231,\n",
       " 'не': 30755,\n",
       " 'нравится': 31925,\n",
       " 'iphone': 5951,\n",
       " 'почему мне': 37659,\n",
       " 'мне не': 28233,\n",
       " 'не нравится': 30851,\n",
       " 'всеобщая': 16456,\n",
       " 'доступность': 20285,\n",
       " 'действии': 18272,\n",
       " 'чем': 49165,\n",
       " 'суть': 45504,\n",
       " 'проекта': 39310,\n",
       " 'ru': 9541,\n",
       " 'search': 9842,\n",
       " 'запускается': 21584,\n",
       " 'понедельник': 37201,\n",
       " 'mobile': 7315,\n",
       " 'выбор': 16759,\n",
       " 'способа': 44575,\n",
       " 'связи': 42437,\n",
       " 'обзор': 32095,\n",
       " 'под': 36147,\n",
       " 'windows': 11973,\n",
       " 'под windows': 36185,\n",
       " 'онлайн': 33063,\n",
       " 'банкинг': 13661,\n",
       " 'оформление': 34332,\n",
       " 'рабочего': 40187,\n",
       " 'места': 27821,\n",
       " 'рабочего места': 40189,\n",
       " 'новые': 31597,\n",
       " 'скриншоты': 43344,\n",
       " 'shell': 9984,\n",
       " 'новые скриншоты': 31639,\n",
       " 'шанс': 49710,\n",
       " 'альтернативных': 13010,\n",
       " 'ос': 33434,\n",
       " 'кто': 26433,\n",
       " 'должен': 19995,\n",
       " 'писать': 35235,\n",
       " 'js': 6288,\n",
       " 'код': 25165,\n",
       " 'процессе': 39765,\n",
       " 'работы': 40149,\n",
       " 'над': 30229,\n",
       " 'проектом': 39379,\n",
       " 'работы над': 40174,\n",
       " 'над проектом': 30234,\n",
       " 'работы над проектом': 40175,\n",
       " 'top': 11041,\n",
       " '10': 64,\n",
       " 'западных': 21471,\n",
       " 'стартапов': 44924,\n",
       " 'на': 28969,\n",
       " 'которые': 26107,\n",
       " 'стоит': 45136,\n",
       " 'обратить': 32565,\n",
       " 'внимание': 15982,\n",
       " '2008': 536,\n",
       " 'году': 17617,\n",
       " 'top 10': 11042,\n",
       " 'стартапов на': 44929,\n",
       " 'на которые': 29661,\n",
       " 'которые стоит': 26137,\n",
       " 'обратить внимание': 32566,\n",
       " '2008 году': 546,\n",
       " 'на которые стоит': 29662,\n",
       " 'чтение': 49444,\n",
       " 'википедии': 15733,\n",
       " 'оффлайн': 34339,\n",
       " 'исторический': 23719,\n",
       " 'кадр': 23928,\n",
       " 'оперный': 33172,\n",
       " 'мини': 28053,\n",
       " 'расследование': 40851,\n",
       " 'хочу': 48702,\n",
       " 'opera': 8174,\n",
       " 'sdk': 9822,\n",
       " 'устройств': 47605,\n",
       " 'sdk для': 9824,\n",
       " 'для устройств': 19679,\n",
       " 'снова': 43722,\n",
       " 'популярности': 37265,\n",
       " 'установка': 47542,\n",
       " 'драйвера': 20325,\n",
       " 'nvidia': 7978,\n",
       " 'ubuntu': 11226,\n",
       " 'установка драйвера': 47558,\n",
       " 'драйвера для': 20326,\n",
       " 'ubuntu 10': 11230,\n",
       " 'скрытие': 43377,\n",
       " 'всей': 16437,\n",
       " 'ветки': 15406,\n",
       " 'комментариев': 25343,\n",
       " 'если': 20564,\n",
       " 'родительский': 41594,\n",
       " 'понимание': 37208,\n",
       " 'sql': 10358,\n",
       " 'всегда': 16423,\n",
       " 'бывает': 14696,\n",
       " 'первый': 34798,\n",
       " 'раз': 40246,\n",
       " 'первый раз': 34827,\n",
       " 'краткий': 26218,\n",
       " 'справочник': 44607,\n",
       " 'по': 35659,\n",
       " 'краткий справочник': 26221,\n",
       " 'справочник по': 44610,\n",
       " 'краткий справочник по': 26223,\n",
       " 'подсветка': 36478,\n",
       " 'синтаксиса': 43050,\n",
       " 'кода': 25176,\n",
       " 'вашей': 14940,\n",
       " 'подсветка синтаксиса': 36483,\n",
       " 'кода на': 25189,\n",
       " 'на вашей': 29483,\n",
       " 'parser': 8426,\n",
       " 'практическое': 37933,\n",
       " 'применение': 38608,\n",
       " 'практическое применение': 37936,\n",
       " 'описание': 33179,\n",
       " 'более': 14326,\n",
       " '350': 901,\n",
       " 'команд': 25296,\n",
       " 'линукс': 26869,\n",
       " 'google': 4773,\n",
       " 'wiki': 11949,\n",
       " 'killer': 6405,\n",
       " 'открывает': 33989,\n",
       " 'новую': 31586,\n",
       " 'объявлений': 32735,\n",
       " 'программа': 39007,\n",
       " 'бесплатно': 13930,\n",
       " 'среда': 44682,\n",
       " 'оформления': 34336,\n",
       " 'вас': 14893,\n",
       " 'спасет': 44457,\n",
       " 'blackbox': 2273,\n",
       " 'win': 11963,\n",
       " 'план': 35383,\n",
       " 'мульти': 28819,\n",
       " 'тач': 45748,\n",
       " 'жесты': 20737,\n",
       " 'анимация': 13164,\n",
       " 'gui': 5129,\n",
       " 'план на': 35387,\n",
       " 'на windows': 29392,\n",
       " 'windows mobile': 12019,\n",
       " 'мульти тач': 28820,\n",
       " 'на windows mobile': 29395,\n",
       " 'бойтесь': 14322,\n",
       " 'линукса': 26870,\n",
       " 'не бойтесь': 30760,\n",
       " 'официальная': 34301,\n",
       " 'версия': 15303,\n",
       " 'генератор': 17336,\n",
       " 'первые': 34783,\n",
       " 'впечатления': 16295,\n",
       " 'первые впечатления': 34785,\n",
       " 'опубликовал': 33294,\n",
       " 'фотографии': 48238,\n",
       " 'частично': 48976,\n",
       " 'спецификации': 44499,\n",
       " 'новых': 31776,\n",
       " 'моделей': 28443,\n",
       " 'телефонов': 45924,\n",
       " 'nokia': 7875,\n",
       " 'серии': 42833,\n",
       " 'новых моделей': 31790,\n",
       " 'телефонов nokia': 45926,\n",
       " 'запуск': 21558,\n",
       " 'плагинов': 35375,\n",
       " 'postgresql': 8844,\n",
       " 'бесплатный': 13956,\n",
       " 'отечественный': 33925,\n",
       " 'проигрыватель': 39415,\n",
       " 'barcamp': 2110,\n",
       " 'последний': 37418,\n",
       " 'рабочий': 40202,\n",
       " 'день': 18408,\n",
       " 'билла': 14138,\n",
       " 'гейтса': 17324,\n",
       " 'microsoft': 7146,\n",
       " 'видео': 15525,\n",
       " 'рабочий день': 40203,\n",
       " 'билла гейтса': 14139,\n",
       " 'объединяя': 32692,\n",
       " 'социальные': 44401,\n",
       " 'сети': 42921,\n",
       " 'возможности': 16112,\n",
       " 'социальные сети': 44407,\n",
       " 'ru новые': 9571,\n",
       " 'новые возможности': 31604,\n",
       " 'top4top': 11047,\n",
       " 'открыт': 34020,\n",
       " 'за': 20841,\n",
       " 'контент': 25749,\n",
       " 'долгожданное': 19988,\n",
       " 'открытие': 34038,\n",
       " 'создатель': 44140,\n",
       " 'будет': 14576,\n",
       " 'работать': 40091,\n",
       " 'будет работать': 14599,\n",
       " 'работать на': 40095,\n",
       " 'на google': 29144,\n",
       " 'будет работать на': 14600,\n",
       " 'textmate': 10860,\n",
       " 'средствами': 44711,\n",
       " 'gedit': 4642,\n",
       " 'улучшение': 47156,\n",
       " 'поиска': 36635,\n",
       " 'улучшение поиска': 47157,\n",
       " 'дела': 18310,\n",
       " 'давно': 17953,\n",
       " 'дней': 19732,\n",
       " 'macheist': 6874,\n",
       " 'ii': 5625,\n",
       " 'четвертая': 49332,\n",
       " 'миссия': 28186,\n",
       " 'бесплатные': 13947,\n",
       " 'программы': 39153,\n",
       " 'бесплатные программы': 13955,\n",
       " 'что': 49450,\n",
       " 'лучше': 27094,\n",
       " 'сервера': 42700,\n",
       " 'freebsd': 4480,\n",
       " 'mac': 6851,\n",
       " 'os': 8294,\n",
       " 'server': 9906,\n",
       " 'что лучше': 49529,\n",
       " 'лучше для': 27097,\n",
       " 'для сервера': 19579,\n",
       " 'freebsd или': 4484,\n",
       " 'mac os': 6858,\n",
       " 'что лучше для': 49530,\n",
       " 'web': 11771,\n",
       " 'четвертой': 49335,\n",
       " 'мировой': 28164,\n",
       " 'войне': 16161,\n",
       " 'будут': 14614,\n",
       " 'воевать': 16071,\n",
       " 'web или': 11806,\n",
       " 'как': 23965,\n",
       " 'эпоха': 50218,\n",
       " 'ит': 23802,\n",
       " 'com': 2855,\n",
       " 'стартап': 44884,\n",
       " 'то': 46353,\n",
       " 'мог': 28416,\n",
       " 'стать': 45016,\n",
       " 'стартап для': 44886,\n",
       " 'то чем': 46363,\n",
       " 'лучшие': 27112,\n",
       " 'студии': 45379,\n",
       " 'нет': 31262,\n",
       " 'или нет': 22775,\n",
       " 'бесплатная': 13920,\n",
       " 'телефонная': 45910,\n",
       " 'связь': 42454,\n",
       " 'контекстной': 25742,\n",
       " 'рекламой': 41262,\n",
       " 'php': 8605,\n",
       " 'библиотека': 14053,\n",
       " 'jquery': 6263,\n",
       " 'php библиотека': 8619,\n",
       " 'библиотека для': 14054,\n",
       " 'для jquery': 18935,\n",
       " 'php библиотека для': 8620,\n",
       " 'пора': 37292,\n",
       " 'покупать': 36761,\n",
       " 'бренды': 14543,\n",
       " 'перевод': 34860,\n",
       " '50': 1027,\n",
       " 'opera 50': 8191,\n",
       " 'open': 8120,\n",
       " 'forum': 4413,\n",
       " 'europe': 3988,\n",
       " 'поддержала': 36331,\n",
       " 'software': 10205,\n",
       " 'opera software': 8208,\n",
       " 'китае': 24905,\n",
       " 'вводят': 15011,\n",
       " 'государственные': 17751,\n",
       " 'лицензии': 26913,\n",
       " 'сервисов': 42795,\n",
       " 'ugc': 11280,\n",
       " 'для сервисов': 19583,\n",
       " '04': 33,\n",
       " 'hardy': 5204,\n",
       " 'есть': 20584,\n",
       " 'чего': 49106,\n",
       " 'ждать': 20663,\n",
       " 'ubuntu 04': 11227,\n",
       " 'чего ждать': 49109,\n",
       " 'исследование': 23691,\n",
       " 'facebook': 4110,\n",
       " 'facebook com': 4111,\n",
       " 'вот': 16275,\n",
       " 'так': 45673,\n",
       " 'лого': 27019,\n",
       " 'вот так': 16276,\n",
       " 'локализация': 27042,\n",
       " 'drupal': 3681,\n",
       " 'риа': 41489,\n",
       " 'новости': 31558,\n",
       " 'видел': 15521,\n",
       " 'никто': 31348,\n",
       " 'риа новости': 41490,\n",
       " 'то что': 46364,\n",
       " 'что не': 49552,\n",
       " 'не видел': 30774,\n",
       " 'то что не': 46367,\n",
       " 'небольшой': 30954,\n",
       " 'эксперимент': 50001,\n",
       " 'translate': 11122,\n",
       " 'google translate': 4898,\n",
       " 'ces': 2579,\n",
       " 'benq': 2180,\n",
       " 'представляет': 38097,\n",
       " 'internet': 5834,\n",
       " 'device': 3437,\n",
       " 'wifi': 11936,\n",
       " 'поддержкой': 36354,\n",
       " 'сетей': 42918,\n",
       " '5g': 1069,\n",
       " 'анатолий': 13121,\n",
       " 'эта': 50243,\n",
       " 'cakephp': 2461,\n",
       " 'beta': 2185,\n",
       " 'устранение': 47590,\n",
       " 'фоновых': 48160,\n",
       " 'картинок': 24668,\n",
       " 'ie6': 5598,\n",
       " 'usb': 11389,\n",
       " 'фото': 48222,\n",
       " 'asus': 1940,\n",
       " 'eee': 3792,\n",
       " 'pc': 8467,\n",
       " 'дюймовым': 20443,\n",
       " 'экраном': 49985,\n",
       " 'первые фото': 34795,\n",
       " 'asus eee': 1941,\n",
       " 'eee pc': 3797,\n",
       " 'дюймовым экраном': 20445,\n",
       " 'asus eee pc': 1944,\n",
       " 'миллион': 28015,\n",
       " 'дайджест': 17966,\n",
       " 'месяц': 27843,\n",
       " 'стартап на': 44894,\n",
       " 'на миллион': 29708,\n",
       " 'за месяц': 20972,\n",
       " 'стартап на миллион': 44895,\n",
       " 'дождь': 19910,\n",
       " 'снег': 43685,\n",
       " 'появились': 37769,\n",
       " 'maps': 6959,\n",
       " 'google maps': 4849,\n",
       " 'на google maps': 29149,\n",
       " 'официальный': 34321,\n",
       " 'холивар': 48592,\n",
       " 'ищет': 23869,\n",
       " 'таланты': 45725,\n",
       " 'поощряет': 37225,\n",
       " 'ищет таланты': 23872,\n",
       " 'платформа': 35537,\n",
       " 'американском': 13041,\n",
       " 'рынке': 41917,\n",
       " 'качественный': 24763,\n",
       " 'хостинг': 48642,\n",
       " 'миф': 28192,\n",
       " 'реальность': 41035,\n",
       " 'миф или': 28193,\n",
       " 'или реальность': 22826,\n",
       " 'миф или реальность': 28194,\n",
       " 'закончился': 21349,\n",
       " 'ruby': 9584,\n",
       " 'logo': 6771,\n",
       " 'contest': 2980,\n",
       " 'верстальщика': 15350,\n",
       " 'часть': 49010,\n",
       " 'jquery для': 6275,\n",
       " 'для верстальщика': 19151,\n",
       " 'советский': 43891,\n",
       " 'гарнитура': 17274,\n",
       " 'jawbone': 6214,\n",
       " '44': 1003,\n",
       " 'миллиона': 28020,\n",
       " 'долларов': 20017,\n",
       " 'миллиона долларов': 28021,\n",
       " 'долларов за': 20020,\n",
       " 'миллиона долларов за': 28022,\n",
       " 'какая': 24476,\n",
       " 'javascript': 6180,\n",
       " 'лучшая': 27093,\n",
       " 'javascript библиотека': 6193,\n",
       " 'apple': 1729,\n",
       " 'платформе': 35550,\n",
       " 'intel': 5778,\n",
       " 'энтузиастов': 50208,\n",
       " 'производства': 39440,\n",
       " 'alienware': 1417,\n",
       " 'платформе intel': 35553,\n",
       " 'finereader': 4236,\n",
       " 'сделают': 42512,\n",
       " 'данные': 18019,\n",
       " 'пользователей': 36983,\n",
       " 'google facebook': 4828,\n",
       " 'данные пользователей': 18028,\n",
       " 'будущее': 14622,\n",
       " 'веб': 15023,\n",
       " 'стандартов': 44837,\n",
       " 'будущее веб': 14624,\n",
       " 'веб стандартов': 15110,\n",
       " 'xobni': 12327,\n",
       " 'новый': 31652,\n",
       " 'сан': 42148,\n",
       " 'франциско': 48291,\n",
       " 'сан франциско': 42149,\n",
       " 'im': 5636,\n",
       " 'history': 5319,\n",
       " 'показ': 36710,\n",
       " 'рекламы': 41265,\n",
       " 'adsense': 1332,\n",
       " 'стал': 44789,\n",
       " 'gmail': 4736,\n",
       " 'imap': 5656,\n",
       " 'теперь': 46005,\n",
       " 'русски': 41847,\n",
       " 'теперь по': 46046,\n",
       " 'по русски': 35948,\n",
       " 'теперь по русски': 46047,\n",
       " 'работа': 40026,\n",
       " 'командной': 25309,\n",
       " 'строкой': 45329,\n",
       " 'быстрее': 14730,\n",
       " 'ie': 5594,\n",
       " 'десять': 18493,\n",
       " 'блогера': 14246,\n",
       " 'релиз': 41311,\n",
       " 'kde': 6362,\n",
       " 'релиз kde': 41321,\n",
       " 'забавный': 21082,\n",
       " 'глюк': 17559,\n",
       " 'вкусные': 15888,\n",
       " 'меню': 27781,\n",
       " 'браузеры': 14534,\n",
       " 'acid': 1248,\n",
       " 'грядет': 17908,\n",
       " 'война': 16159,\n",
       " 'браузеров': 14525,\n",
       " 'война браузеров': 16160,\n",
       " 'linux': 6656,\n",
       " 'организации': 33382,\n",
       " 'пиратство': 35220,\n",
       " 'сеть': 42955,\n",
       " 'доходов': 20315,\n",
       " 'задача': 21245,\n",
       " 'про': 38850,\n",
       " 'две': 18151,\n",
       " 'задача про': 21253,\n",
       " 'цветовые': 48791,\n",
       " 'studio': 10565,\n",
       " 'vs': 11672,\n",
       " 'adobe': 1313,\n",
       " 'studio vs': 10583,\n",
       " 'vs adobe': 11675,\n",
       " 'поговорим': 36129,\n",
       " 'стартапах': 44910,\n",
       " 'дизайне': 18658,\n",
       " 'самое': 42061,\n",
       " 'главное': 17490,\n",
       " 'же': 20673,\n",
       " 'тратить': 46605,\n",
       " 'деньги': 18436,\n",
       " 'или снова': 22840,\n",
       " 'самое главное': 42063,\n",
       " 'на что': 30104,\n",
       " 'что же': 49510,\n",
       " 'тратить деньги': 46606,\n",
       " 'встречайте': 16549,\n",
       " 'acid3': 1249,\n",
       " 'автоматизация': 12596,\n",
       " 'человек': 49135,\n",
       " 'мечты': 27940,\n",
       " 'мечты реальность': 27942,\n",
       " 'импорт': 22928,\n",
       " 'публикаций': 39899,\n",
       " 'из': 22268,\n",
       " 'вы': 16674,\n",
       " 'пост': 37474,\n",
       " 'хабре': 48454,\n",
       " 'как вы': 24021,\n",
       " 'на хабре': 30089,\n",
       " 'hello': 5255,\n",
       " 'world': 12192,\n",
       " 'air': 1375,\n",
       " 'hello world': 5256,\n",
       " 'adobe air': 1314,\n",
       " 'почувствуй': 37747,\n",
       " 'превращение': 37955,\n",
       " 'гаджет': 17234,\n",
       " 'векторизация': 15199,\n",
       " 'логотипов': 27027,\n",
       " 'иконки': 22653,\n",
       " 'хабрахабра': 48447,\n",
       " 'приближение': 38285,\n",
       " 'суперхабра': 45494,\n",
       " 'иконки для': 22654,\n",
       " 'для хабрахабра': 19692,\n",
       " 'expo': 4064,\n",
       " 'ссылки': 44746,\n",
       " 'доверия': 19890,\n",
       " 'rss': 9525,\n",
       " 'yahoo': 12382,\n",
       " 'pipes': 8709,\n",
       " 'yahoo pipes': 12386,\n",
       " 'выиграй': 16854,\n",
       " 'nintendo': 7840,\n",
       " 'wii': 11947,\n",
       " 'плюс': 35650,\n",
       " 'guitar': 5140,\n",
       " 'hero': 5267,\n",
       " 'iii': 5627,\n",
       " 'nintendo wii': 7843,\n",
       " 'guitar hero': 5141,\n",
       " 'профиль': 39738,\n",
       " 'инвестора': 22971,\n",
       " 'венчурный': 15235,\n",
       " 'фонд': 48135,\n",
       " 'venture': 11502,\n",
       " 'partners': 8436,\n",
       " 'венчурный фонд': 15237,\n",
       " 'venture partners': 11503,\n",
       " 'история': 23723,\n",
       " 'успеха': 47506,\n",
       " 'стартапа': 44904,\n",
       " 'история успеха': 23764,\n",
       " 'портативный': 37320,\n",
       " 'паяльник': 34714,\n",
       " 'смартфон': 43576,\n",
       " 'платформы': 35577,\n",
       " 'android': 1503,\n",
       " 'сделали': 42483,\n",
       " 'китайцы': 24926,\n",
       " 'первый смартфон': 34832,\n",
       " 'смартфон для': 43584,\n",
       " 'для платформы': 19438,\n",
       " 'google android': 4785,\n",
       " 'дома': 20045,\n",
       " 'iphone для': 5969,\n",
       " 'для дома': 19207,\n",
       " 'интервью': 23192,\n",
       " 'gizmodo': 4720,\n",
       " 'практический': 37923,\n",
       " 'css': 3096,\n",
       " 'все': 16370,\n",
       " 'css js': 3102,\n",
       " 'net': 7696,\n",
       " 'мобильный': 28368,\n",
       " 'укради': 47119,\n",
       " 'этот': 50331,\n",
       " 'фильм': 48011,\n",
       " 'пираты': 35223,\n",
       " 'платят': 35598,\n",
       " 'они': 33059,\n",
       " 'get': 4682,\n",
       " 'time': 10946,\n",
       " 'machine': 6875,\n",
       " 'time machine': 10948,\n",
       " 'сновидений': 43727,\n",
       " 'вперед': 16288,\n",
       " 'переход': 35017,\n",
       " 'icq': 5557,\n",
       " 'jabber': 6111,\n",
       " 'вперед будущее': 16289,\n",
       " 'на jabber': 29204,\n",
       " 'конструктор': 25696,\n",
       " 'создания': 44111,\n",
       " 'зависимых': 21146,\n",
       " 'приложений': 38490,\n",
       " 'стиле': 45103,\n",
       " 'конструктор для': 25698,\n",
       " 'для создания': 19609,\n",
       " 'blitz': 2287,\n",
       " 'templates': 10826,\n",
       " 'прототипирование': 39703,\n",
       " 'сайтов': 42001,\n",
       " 'собирая': 43812,\n",
       " 'web сайтов': 11829,\n",
       " 'исходники': 23780,\n",
       " 'sim': 10031,\n",
       " 'city': 2710,\n",
       " 'открыты': 34065,\n",
       " 'gnu': 4748,\n",
       " 'gpl': 5050,\n",
       " 'gnu gpl': 4749,\n",
       " 'добавлены': 19849,\n",
       " 'очередной': 34400,\n",
       " 'изображений': 22575,\n",
       " 'строят': 45338,\n",
       " 'свои': 42345,\n",
       " 'cdn': 2541,\n",
       " 'microsoft google': 7162,\n",
       " 'нужно': 31950,\n",
       " 'держать': 18472,\n",
       " 'открытым': 34074,\n",
       " 'проигрывание': 39412,\n",
       " 'музыки': 28807,\n",
       " 'кино': 24884,\n",
       " 'приставке': 38788,\n",
       " 'на приставке': 29873,\n",
       " 'itunes': 6093,\n",
       " 'safari': 9665,\n",
       " 'for': 4366,\n",
       " 'дальше': 18013,\n",
       " 'for windows': 4389,\n",
       " 'что дальше': 49484,\n",
       " 'macworld': 6885,\n",
       " 'прямая': 39848,\n",
       " 'трансляция': 46575,\n",
       " 'прямая трансляция': 39849,\n",
       " 'знаете': 21929,\n",
       " 'что вы': 49472,\n",
       " 'вы знаете': 16697,\n",
       " 'что вы знаете': 49474,\n",
       " 'европейская': 20466,\n",
       " 'комиссия': 25340,\n",
       " 'начала': 30637,\n",
       " 'два': 18132,\n",
       " 'расследования': 40853,\n",
       " 'sprites': 10349,\n",
       " 'знали': 21965,\n",
       " 'но': 31374,\n",
       " 'боялись': 14465,\n",
       " 'спросить': 44624,\n",
       " 'css sprites': 3105,\n",
       " 'все что': 16417,\n",
       " 'вы знали': 16698,\n",
       " 'но боялись': 31376,\n",
       " 'боялись спросить': 14466,\n",
       " 'все что вы': 16419,\n",
       " 'но боялись спросить': 31377,\n",
       " 'девять': 18261,\n",
       " 'доказательств': 19916,\n",
       " 'природы': 38771,\n",
       " 'mp3': 7465,\n",
       " 'player': 8760,\n",
       " 'относитесь': 34159,\n",
       " 'компании': 25412,\n",
       " 'вы относитесь': 16717,\n",
       " 'компании apple': 25413,\n",
       " 'как вы относитесь': 24024,\n",
       " 'пакет': 34470,\n",
       " 'amazon': 1443,\n",
       " 'товаров': 46382,\n",
       " 'млрд': 28225,\n",
       " 'товаров на': 46384,\n",
       " 'на млрд': 29715,\n",
       " 'таки': 45698,\n",
       " 'нужна': 31944,\n",
       " 'ли': 26773,\n",
       " 'полная': 36864,\n",
       " 'кросс': 26337,\n",
       " 'все таки': 16413,\n",
       " 'нужна ли': 31945,\n",
       " 'media': 7055,\n",
       " 'explorer': 4054,\n",
       " 'составе': 44284,\n",
       " 'конкуренция': 25614,\n",
       " 'media player': 7058,\n",
       " 'internet explorer': 5836,\n",
       " 'личной': 26952,\n",
       " 'хабраленты': 48431,\n",
       " 'без': 13735,\n",
       " 'без комментариев': 13763,\n",
       " 'функциональный': 48379,\n",
       " 'клон': 25049,\n",
       " 'lightbox': 6616,\n",
       " 'сбор': 42189,\n",
       " 'mini': 7266,\n",
       " 'для opera': 18988,\n",
       " 'opera mini': 8198,\n",
       " 'самым': 42131,\n",
       " 'популярным': 37271,\n",
       " 'устройством': 47635,\n",
       " 'стал самым': 44799,\n",
       " 'самым популярным': 42132,\n",
       " 'стал самым популярным': 44800,\n",
       " 'новое': 31507,\n",
       " 'xerox': 12306,\n",
       " 'новое лого': 31513,\n",
       " 'бросает': 14562,\n",
       " 'вызов': 16844,\n",
       " 'хостингу': 48662,\n",
       " 's3': 9655,\n",
       " 'amazon s3': 1454,\n",
       " 'дата': 18099,\n",
       " 'центры': 48862,\n",
       " 'апреле': 13288,\n",
       " 'дата центры': 18110,\n",
       " 'мечта': 27936,\n",
       " 'слонов': 43509,\n",
       " 'часто': 48992,\n",
       " 'пользуетесь': 37048,\n",
       " 'как часто': 24455,\n",
       " 'часто вы': 48993,\n",
       " 'вы пользуетесь': 16723,\n",
       " 'как часто вы': 24456,\n",
       " 'часто вы пользуетесь': 48994,\n",
       " 'starbucks': 10445,\n",
       " 'браузер': 14486,\n",
       " 'кому': 25555,\n",
       " 'веб браузер': 15028,\n",
       " 'обновилась': 32398,\n",
       " 'до': 19776,\n",
       " 'версии': 15273,\n",
       " 'до версии': 19799,\n",
       " 'кроссбраузерное': 26345,\n",
       " 'трудности': 46750,\n",
       " 'отрисовки': 34215,\n",
       " 'macbook': 6870,\n",
       " 'pro': 8914,\n",
       " 'мышкой': 28944,\n",
       " 'если вас': 20568,\n",
       " 'macbook pro': 6873,\n",
       " 'пользуетесь ли': 37050,\n",
       " 'ли вы': 26786,\n",
       " 'пользуетесь ли вы': 37051,\n",
       " 'довольны': 19896,\n",
       " 'вы довольны': 16690,\n",
       " 'необычные': 31165,\n",
       " 'мониторы': 28670,\n",
       " 'от': 33606,\n",
       " 'nec': 7675,\n",
       " 'сумка': 45478,\n",
       " 'сделки': 42519,\n",
       " '2007': 534,\n",
       " 'области': 32306,\n",
       " 'technology': 10806,\n",
       " 'машинок': 27622,\n",
       " 'автокадабры': 12585,\n",
       " 'семь': 42635,\n",
       " 'лет': 26721,\n",
       " 'семь лет': 42636,\n",
       " 'фактов': 47907,\n",
       " 'об': 31997,\n",
       " '10 фактов': 158,\n",
       " 'фактов об': 47908,\n",
       " 'актуально': 12922,\n",
       " 'рунете': 41836,\n",
       " 'сообщества': 44240,\n",
       " 'владельцев': 15893,\n",
       " 'сколько': 43280,\n",
       " 'сих': 43208,\n",
       " 'пор': 37290,\n",
       " 'перешел': 35043,\n",
       " 'мак': 27271,\n",
       " 'до сих': 19824,\n",
       " 'сих пор': 43209,\n",
       " 'пор не': 37291,\n",
       " 'перешел на': 35044,\n",
       " 'на мак': 29691,\n",
       " 'до сих пор': 19825,\n",
       " 'сих пор не': 43210,\n",
       " 'куда': 26479,\n",
       " 'идут': 22259,\n",
       " 'три': 46702,\n",
       " 'бизнес': 14074,\n",
       " 'модели': 28444,\n",
       " 'могут': 28426,\n",
       " 'принести': 38694,\n",
       " 'миллиарды': 28014,\n",
       " 'бизнес модели': 14093,\n",
       " 'которые могут': 26121,\n",
       " 'sun': 10626,\n",
       " 'купила': 26502,\n",
       " 'mysql': 7600,\n",
       " 'хабра': 48415,\n",
       " 'ice': 5533,\n",
       " 'первая': 34722,\n",
       " 'неконференция': 31093,\n",
       " 'pgp': 8545,\n",
       " 'стали': 44806,\n",
       " 'дружелюбнее': 20375,\n",
       " 'ноутбук': 31868,\n",
       " 'большой': 14400,\n",
       " 'компьютер': 25499,\n",
       " 'рабочем': 40196,\n",
       " 'месте': 27828,\n",
       " 'компьютер на': 25507,\n",
       " 'на рабочем': 29898,\n",
       " 'рабочем месте': 40197,\n",
       " 'на рабочем месте': 29899,\n",
       " 'рунет': 41829,\n",
       " 'проблем': 38895,\n",
       " 'яндекс': 50505,\n",
       " 'директе': 18721,\n",
       " 'из за': 22358,\n",
       " 'обновление': 32413,\n",
       " 'ipod': 5995,\n",
       " 'touch': 11069,\n",
       " 'платное': 35520,\n",
       " 'почему же': 37649,\n",
       " 'ipod touch': 5999,\n",
       " 'вводная': 15008,\n",
       " 'для стартапов': 19630,\n",
       " 'стартапов от': 44930,\n",
       " 'курс': 26514,\n",
       " 'обучения': 32621,\n",
       " 'курс обучения': 26524,\n",
       " 'недостатков': 31034,\n",
       " 'нового': 31474,\n",
       " 'ноутбука': 31881,\n",
       " 'apple macbook': 1746,\n",
       " 'macbook air': 6871,\n",
       " 'apple macbook air': 1747,\n",
       " 'среду': 44725,\n",
       " 'внимание на': 15984,\n",
       " '90': 1166,\n",
       " 'минут': 28104,\n",
       " 'keynote': 6388,\n",
       " '60': 1074,\n",
       " 'секунд': 42580,\n",
       " '90 минут': 1167,\n",
       " 'за 60': 20907,\n",
       " '60 секунд': 1081,\n",
       " 'за 60 секунд': 20908,\n",
       " 'несколько': 31219,\n",
       " 'глобально': 17536,\n",
       " 'мыслей': 28929,\n",
       " 'об apple': 31999,\n",
       " 'xss': 12361,\n",
       " 'яндексе': 50582,\n",
       " 'xss на': 12362,\n",
       " 'на яндексе': 30140,\n",
       " 'нестандартное': 31252,\n",
       " 'использование': 23573,\n",
       " 'поисковых': 36688,\n",
       " 'нестандартное использование': 31253,\n",
       " 'советов': 43881,\n",
       " 'новичку': 31468,\n",
       " '10 советов': 153,\n",
       " 'стив': 45082,\n",
       " 'джобс': 18575,\n",
       " '08': 54,\n",
       " 'секундах': 42584,\n",
       " 'стив джобс': 45087,\n",
       " 'улучшаем': 47152,\n",
       " 'навигацию': 30190,\n",
       " 'reader': 9299,\n",
       " 'google reader': 4877,\n",
       " 'конгресса': 25584,\n",
       " 'flickr': 4338,\n",
       " 'библиотека конгресса': 14056,\n",
       " 'на flickr': 29128,\n",
       " 'бага': 13548,\n",
       " 'firefox': 4245,\n",
       " 'философии': 48005,\n",
       " 'чайников': 48939,\n",
       " 'для чайников': 19704,\n",
       " 'stand': 10432,\n",
       " 'alone': 1428,\n",
       " 'russian': 9628,\n",
       " 'tumblr': 11163,\n",
       " 'stand alone': 10433,\n",
       " 'трюки': 46760,\n",
       " 'динамический': 18701,\n",
       " 'favicon': 4170,\n",
       " 'чтения': 49447,\n",
       " 'лент': 26703,\n",
       " 'для чтения': 19710,\n",
       " 'rss лент': 9529,\n",
       " 'девочка': 18251,\n",
       " 'подросток': 36467,\n",
       " 'создала': 44011,\n",
       " 'год': 17587,\n",
       " 'миллион долларов': 28016,\n",
       " 'долларов год': 20019,\n",
       " 'очередное': 34398,\n",
       " 'очередное обновление': 34399,\n",
       " 'обновление по': 32439,\n",
       " 'червь': 49231,\n",
       " 'меньше': 27779,\n",
       " 'лидирует': 26838,\n",
       " 'xp': 12330,\n",
       " 'windows xp': 12082,\n",
       " 'toshiba': 11060,\n",
       " 'показала': 36714,\n",
       " 'umpc': 11299,\n",
       " 'топливных': 46475,\n",
       " 'элементах': 50158,\n",
       " 'на топливных': 30055,\n",
       " 'топливных элементах': 46476,\n",
       " 'на топливных элементах': 30056,\n",
       " 'электронные': 50125,\n",
       " 'книги': 25098,\n",
       " 'читалки': 49422,\n",
       " 'электронные книги': 50127,\n",
       " 'что нового': 49558,\n",
       " 'source': 10267,\n",
       " 'библиотеку': 14068,\n",
       " 'open source': 8126,\n",
       " 'source javascript': 10270,\n",
       " 'javascript библиотеку': 6196,\n",
       " 'open source javascript': 8128,\n",
       " 'средства': 44705,\n",
       " 'разработки': 40543,\n",
       " 'нас': 30472,\n",
       " 'ждёт': 20672,\n",
       " 'средства разработки': 44710,\n",
       " 'что нас': 49550,\n",
       " 'archlinux': 1834,\n",
       " 'создание': 44022,\n",
       " 'своей': 42337,\n",
       " 'сборки': 42212,\n",
       " 'вопрос': 16197,\n",
       " 'создание своей': 44091,\n",
       " 'сборки windows': 42213,\n",
       " 'опять': 33367,\n",
       " 'карму': 24631,\n",
       " 'где': 17287,\n",
       " 'идеи': 22216,\n",
       " 'при': 38224,\n",
       " 'создании': 44104,\n",
       " 'дизайна': 18650,\n",
       " 'сайта': 41966,\n",
       " 'где вы': 17289,\n",
       " 'при создании': 38278,\n",
       " 'дизайна сайта': 18655,\n",
       " 'спасите': 44460,\n",
       " 'приходит': 38801,\n",
       " 'смену': 43627,\n",
       " 'blackberry': 2265,\n",
       " 'крупных': 26416,\n",
       " 'приходит на': 38802,\n",
       " 'на смену': 30002,\n",
       " 'презентация': 38132,\n",
       " 'проектированию': 39351,\n",
       " 'деловых': 18370,\n",
       " 'социальных': 44418,\n",
       " 'проекта по': 39323,\n",
       " 'по проектированию': 35912,\n",
       " 'социальных сетей': 44422,\n",
       " 'сенсорным': 42651,\n",
       " 'управлением': 47351,\n",
       " 'флэшка': 48123,\n",
       " 'домино': 20132,\n",
       " 'закрыл': 21364,\n",
       " 'ты': 46807,\n",
       " 'тег': 45795,\n",
       " 'ли ты': 26825,\n",
       " 'my': 7583,\n",
       " 'game': 4591,\n",
       " 'хабрахабр': 48446,\n",
       " 'виджет': 15679,\n",
       " 'музей': 28782,\n",
       " 'компьютерной': 25524,\n",
       " 'техники': 46223,\n",
       " 'идея': 22247,\n",
       " 'музей компьютерной': 28784,\n",
       " 'компьютерной техники': 25530,\n",
       " 'ещё': 20632,\n",
       " 'больше': 14349,\n",
       " 'компьютеров': 25544,\n",
       " 'борту': 14430,\n",
       " 'ещё больше': 20635,\n",
       " 'linux на': 6689,\n",
       " 'на борту': 29476,\n",
       " 'юзабилити': 50389,\n",
       " 'бюллетень': 14814,\n",
       " 'выпуск': 16914,\n",
       " '14': 325,\n",
       " 'юзабилити бюллетень': 50390,\n",
       " 'бюллетень выпуск': 14815,\n",
       " 'выпуск 14': 16920,\n",
       " 'юзабилити бюллетень выпуск': 50391,\n",
       " 'проблемы': 38909,\n",
       " ...}"
      ]
     },
     "execution_count": 274,
     "metadata": {},
     "output_type": "execute_result"
    }
   ],
   "source": [
    "# Можно посмотреть словарь в виде {'термин': индекс признака,...}\n",
    "vectorizer.vocabulary_"
   ]
  },
  {
   "cell_type": "code",
   "execution_count": 275,
   "metadata": {},
   "outputs": [
    {
     "data": {
      "text/plain": [
       "(93895, 50624)"
      ]
     },
     "execution_count": 275,
     "metadata": {},
     "output_type": "execute_result"
    }
   ],
   "source": [
    "X_train_title.shape"
   ]
  },
  {
   "cell_type": "markdown",
   "metadata": {},
   "source": [
    "**Ответ: 50624**"
   ]
  },
  {
   "cell_type": "markdown",
   "metadata": {},
   "source": [
    "<font color='red'>Вопрос 4.</font> Какой индекс у слова 'python'?\n",
    "- 1\n",
    "- 10\n",
    "- 9065\n",
    "- 15679"
   ]
  },
  {
   "cell_type": "code",
   "execution_count": 276,
   "metadata": {},
   "outputs": [
    {
     "data": {
      "text/plain": [
       "9065"
      ]
     },
     "execution_count": 276,
     "metadata": {},
     "output_type": "execute_result"
    }
   ],
   "source": [
    "vectorizer.vocabulary_['python']"
   ]
  },
  {
   "cell_type": "markdown",
   "metadata": {},
   "source": [
    "**Ответ: 9065**"
   ]
  },
  {
   "cell_type": "markdown",
   "metadata": {},
   "source": [
    "**Инициализируйте TfidfVectorizer, указав analyzer='char'.<br />\n",
    "Примените метод fit_transform к X_train['title'] и метод transform к X_valid['title'] и X_test['title']**"
   ]
  },
  {
   "cell_type": "markdown",
   "metadata": {},
   "source": [
    "<font color='red'>Вопрос 5.</font> Какой размер у полученного словаря?\n",
    "- 218\n",
    "- 510\n",
    "- 125\n",
    "- 981"
   ]
  },
  {
   "cell_type": "code",
   "execution_count": 277,
   "metadata": {},
   "outputs": [],
   "source": [
    "vectorizer_title_ch = TfidfVectorizer(analyzer='char')\n",
    "\n",
    "X_train_title_ch = vectorizer_title_ch.fit_transform(X_train['title'])\n",
    "X_valid_title_ch = vectorizer_title_ch.transform(X_valid['title'])\n",
    "X_test_title_ch = vectorizer_title_ch.transform(X_test['title'])"
   ]
  },
  {
   "cell_type": "code",
   "execution_count": 278,
   "metadata": {},
   "outputs": [
    {
     "data": {
      "text/plain": [
       "(50624, 218)"
      ]
     },
     "execution_count": 278,
     "metadata": {},
     "output_type": "execute_result"
    }
   ],
   "source": [
    "# Здесь так же можно посмотреть словарь\n",
    "# Заметьте насколько отличаются словари для TfidfVectorizer с analyzer='word' и analyzer='char'\n",
    "\n",
    "len(vectorizer.vocabulary_), len(vectorizer_title_ch.vocabulary_)"
   ]
  },
  {
   "cell_type": "markdown",
   "metadata": {},
   "source": [
    "**Ответ: 218**"
   ]
  },
  {
   "cell_type": "markdown",
   "metadata": {},
   "source": [
    "## Работа с категориальными признаками\n",
    "\n",
    "Для обработки категориальных признаков 'author', 'flow', 'domain' мы будем использовать DictVectorizer из sklearn."
   ]
  },
  {
   "cell_type": "code",
   "execution_count": 279,
   "metadata": {},
   "outputs": [],
   "source": [
    "feats = ['author', 'flow', 'domain']"
   ]
  },
  {
   "cell_type": "code",
   "execution_count": 280,
   "metadata": {},
   "outputs": [
    {
     "data": {
      "text/html": [
       "<div>\n",
       "<style scoped>\n",
       "    .dataframe tbody tr th:only-of-type {\n",
       "        vertical-align: middle;\n",
       "    }\n",
       "\n",
       "    .dataframe tbody tr th {\n",
       "        vertical-align: top;\n",
       "    }\n",
       "\n",
       "    .dataframe thead th {\n",
       "        text-align: right;\n",
       "    }\n",
       "</style>\n",
       "<table border=\"1\" class=\"dataframe\">\n",
       "  <thead>\n",
       "    <tr style=\"text-align: right;\">\n",
       "      <th></th>\n",
       "      <th>author</th>\n",
       "      <th>flow</th>\n",
       "      <th>domain</th>\n",
       "    </tr>\n",
       "  </thead>\n",
       "  <tbody>\n",
       "    <tr>\n",
       "      <th>0</th>\n",
       "      <td>@Tapac</td>\n",
       "      <td>develop</td>\n",
       "      <td>habrahabr.ru</td>\n",
       "    </tr>\n",
       "    <tr>\n",
       "      <th>1</th>\n",
       "      <td>@DezmASter</td>\n",
       "      <td>design</td>\n",
       "      <td>habrahabr.ru</td>\n",
       "    </tr>\n",
       "    <tr>\n",
       "      <th>2</th>\n",
       "      <td>@DezmASter</td>\n",
       "      <td>design</td>\n",
       "      <td>habrahabr.ru</td>\n",
       "    </tr>\n",
       "    <tr>\n",
       "      <th>3</th>\n",
       "      <td>@Taoorus</td>\n",
       "      <td>design</td>\n",
       "      <td>habrahabr.ru</td>\n",
       "    </tr>\n",
       "    <tr>\n",
       "      <th>4</th>\n",
       "      <td>@dennydo</td>\n",
       "      <td>NaN</td>\n",
       "      <td>geektimes.ru</td>\n",
       "    </tr>\n",
       "  </tbody>\n",
       "</table>\n",
       "</div>"
      ],
      "text/plain": [
       "       author     flow        domain\n",
       "0      @Tapac  develop  habrahabr.ru\n",
       "1  @DezmASter   design  habrahabr.ru\n",
       "2  @DezmASter   design  habrahabr.ru\n",
       "3    @Taoorus   design  habrahabr.ru\n",
       "4    @dennydo      NaN  geektimes.ru"
      ]
     },
     "execution_count": 280,
     "metadata": {},
     "output_type": "execute_result"
    }
   ],
   "source": [
    "X_train[feats][:5]"
   ]
  },
  {
   "cell_type": "markdown",
   "metadata": {},
   "source": [
    "Рассмотрим как он работает на примере первых пяти строк"
   ]
  },
  {
   "cell_type": "code",
   "execution_count": 281,
   "metadata": {},
   "outputs": [
    {
     "data": {
      "text/html": [
       "<div>\n",
       "<style scoped>\n",
       "    .dataframe tbody tr th:only-of-type {\n",
       "        vertical-align: middle;\n",
       "    }\n",
       "\n",
       "    .dataframe tbody tr th {\n",
       "        vertical-align: top;\n",
       "    }\n",
       "\n",
       "    .dataframe thead th {\n",
       "        text-align: right;\n",
       "    }\n",
       "</style>\n",
       "<table border=\"1\" class=\"dataframe\">\n",
       "  <thead>\n",
       "    <tr style=\"text-align: right;\">\n",
       "      <th></th>\n",
       "      <th>author</th>\n",
       "      <th>flow</th>\n",
       "      <th>domain</th>\n",
       "    </tr>\n",
       "  </thead>\n",
       "  <tbody>\n",
       "    <tr>\n",
       "      <th>0</th>\n",
       "      <td>@Tapac</td>\n",
       "      <td>develop</td>\n",
       "      <td>habrahabr.ru</td>\n",
       "    </tr>\n",
       "    <tr>\n",
       "      <th>1</th>\n",
       "      <td>@DezmASter</td>\n",
       "      <td>design</td>\n",
       "      <td>habrahabr.ru</td>\n",
       "    </tr>\n",
       "    <tr>\n",
       "      <th>2</th>\n",
       "      <td>@DezmASter</td>\n",
       "      <td>design</td>\n",
       "      <td>habrahabr.ru</td>\n",
       "    </tr>\n",
       "    <tr>\n",
       "      <th>3</th>\n",
       "      <td>@Taoorus</td>\n",
       "      <td>design</td>\n",
       "      <td>habrahabr.ru</td>\n",
       "    </tr>\n",
       "    <tr>\n",
       "      <th>4</th>\n",
       "      <td>@dennydo</td>\n",
       "      <td>-</td>\n",
       "      <td>geektimes.ru</td>\n",
       "    </tr>\n",
       "  </tbody>\n",
       "</table>\n",
       "</div>"
      ],
      "text/plain": [
       "       author     flow        domain\n",
       "0      @Tapac  develop  habrahabr.ru\n",
       "1  @DezmASter   design  habrahabr.ru\n",
       "2  @DezmASter   design  habrahabr.ru\n",
       "3    @Taoorus   design  habrahabr.ru\n",
       "4    @dennydo        -  geektimes.ru"
      ]
     },
     "execution_count": 281,
     "metadata": {},
     "output_type": "execute_result"
    }
   ],
   "source": [
    "# сначала заполняем пропуски прочерком\n",
    "X_train[feats][:5].fillna('-')"
   ]
  },
  {
   "cell_type": "code",
   "execution_count": 282,
   "metadata": {},
   "outputs": [
    {
     "data": {
      "text/plain": [
       "{0: {'author': '@Tapac', 'flow': 'develop', 'domain': 'habrahabr.ru'},\n",
       " 1: {'author': '@DezmASter', 'flow': 'design', 'domain': 'habrahabr.ru'},\n",
       " 2: {'author': '@DezmASter', 'flow': 'design', 'domain': 'habrahabr.ru'},\n",
       " 3: {'author': '@Taoorus', 'flow': 'design', 'domain': 'habrahabr.ru'},\n",
       " 4: {'author': '@dennydo', 'flow': '-', 'domain': 'geektimes.ru'}}"
      ]
     },
     "execution_count": 282,
     "metadata": {},
     "output_type": "execute_result"
    }
   ],
   "source": [
    "# Преобразуем датафрейм в словарь, где ключами являются индексы объектов (именно для этого мы транспонировали датафрейм),\n",
    "# а значениями являются словари в виде 'название_колонки':'значение'\n",
    "X_train[feats][:5].fillna('-').T.to_dict()"
   ]
  },
  {
   "cell_type": "code",
   "execution_count": 283,
   "metadata": {},
   "outputs": [
    {
     "data": {
      "text/plain": [
       "dict_values([{'author': '@Tapac', 'flow': 'develop', 'domain': 'habrahabr.ru'}, {'author': '@DezmASter', 'flow': 'design', 'domain': 'habrahabr.ru'}, {'author': '@DezmASter', 'flow': 'design', 'domain': 'habrahabr.ru'}, {'author': '@Taoorus', 'flow': 'design', 'domain': 'habrahabr.ru'}, {'author': '@dennydo', 'flow': '-', 'domain': 'geektimes.ru'}])"
      ]
     },
     "execution_count": 283,
     "metadata": {},
     "output_type": "execute_result"
    }
   ],
   "source": [
    "# В DictVectorizer нам нужно будет передать список словарей для каждого объекта в виде 'название_колонки':'значение',\n",
    "# поэтому используем .values()\n",
    "X_train[feats][:5].fillna('-').T.to_dict().values()"
   ]
  },
  {
   "cell_type": "code",
   "execution_count": 284,
   "metadata": {},
   "outputs": [
    {
     "data": {
      "text/plain": [
       "<5x9 sparse matrix of type '<class 'numpy.float64'>'\n",
       "\twith 15 stored elements in Compressed Sparse Row format>"
      ]
     },
     "execution_count": 284,
     "metadata": {},
     "output_type": "execute_result"
    }
   ],
   "source": [
    "# В итоге получается разреженная матрица\n",
    "dict_vect = DictVectorizer()\n",
    "dict_vect_matrix = dict_vect.fit_transform(X_train[feats][:5].fillna('-').T.to_dict().values())\n",
    "dict_vect_matrix"
   ]
  },
  {
   "cell_type": "code",
   "execution_count": 285,
   "metadata": {},
   "outputs": [
    {
     "data": {
      "text/plain": [
       "array([[0., 0., 1., 0., 0., 1., 0., 0., 1.],\n",
       "       [1., 0., 0., 0., 0., 1., 0., 1., 0.],\n",
       "       [1., 0., 0., 0., 0., 1., 0., 1., 0.],\n",
       "       [0., 1., 0., 0., 0., 1., 0., 1., 0.],\n",
       "       [0., 0., 0., 1., 1., 0., 1., 0., 0.]])"
      ]
     },
     "execution_count": 285,
     "metadata": {},
     "output_type": "execute_result"
    }
   ],
   "source": [
    "# Но можно преобразовать ее в numpy array с помощью .toarray()\n",
    "dict_vect_matrix.toarray()"
   ]
  },
  {
   "cell_type": "code",
   "execution_count": 286,
   "metadata": {},
   "outputs": [
    {
     "data": {
      "text/plain": [
       "(5, 9)"
      ]
     },
     "execution_count": 286,
     "metadata": {},
     "output_type": "execute_result"
    }
   ],
   "source": [
    "# В получившейся матрице 5 строк (по числу объектов) и 9 столбцов\n",
    "# Далее разберемся почему колонок именно 9\n",
    "dict_vect_matrix.shape"
   ]
  },
  {
   "cell_type": "markdown",
   "metadata": {},
   "source": [
    "Посмотрим сколько уникальных значений в каждой колонке.<br />\n",
    "Суммарно их 9 - столько же, сколько и колонок. Это объясняется тем, что для категориальных признаков со строковыми значениями DictVectorizer делает кодирование бинарными признаками - каждому уникальному значению признака соответствует один новый бинарный признак, который равен 1 только в том случае, если в исходной матрице этот признак принимает значение, которому соответствует эта колонка новой матрицы."
   ]
  },
  {
   "cell_type": "code",
   "execution_count": 287,
   "metadata": {},
   "outputs": [
    {
     "name": "stdout",
     "output_type": "stream",
     "text": [
      "author 4\n",
      "flow 3\n",
      "domain 2\n"
     ]
    }
   ],
   "source": [
    "for col in feats:\n",
    "    print(col,len(X_train[col][:5].fillna('-').unique()))"
   ]
  },
  {
   "cell_type": "markdown",
   "metadata": {},
   "source": [
    "Также можно посмотреть что означает каждая колонка полученной матрицы"
   ]
  },
  {
   "cell_type": "code",
   "execution_count": 288,
   "metadata": {},
   "outputs": [
    {
     "data": {
      "text/plain": [
       "['author=@DezmASter',\n",
       " 'author=@Taoorus',\n",
       " 'author=@Tapac',\n",
       " 'author=@dennydo',\n",
       " 'domain=geektimes.ru',\n",
       " 'domain=habrahabr.ru',\n",
       " 'flow=-',\n",
       " 'flow=design',\n",
       " 'flow=develop']"
      ]
     },
     "execution_count": 288,
     "metadata": {},
     "output_type": "execute_result"
    }
   ],
   "source": [
    "# например, самая первая колонка называется 'author=@DezmASter' - то есть принимает значение 1 только если автор @DezmASter\n",
    "dict_vect.feature_names_"
   ]
  },
  {
   "cell_type": "markdown",
   "metadata": {},
   "source": [
    "**Инициализируйте DictVectorizer с параметрами по умолчанию.<br />\n",
    "Примените метод fit_transform к X_train[feats] и метод transform к X_valid[feats] и X_test[feats]**"
   ]
  },
  {
   "cell_type": "code",
   "execution_count": 289,
   "metadata": {},
   "outputs": [],
   "source": [
    "dv = DictVectorizer()\n",
    "\n",
    "X_train_feats = dv.fit_transform(X_train[feats].fillna('-').T.to_dict().values())\n",
    "X_valid_feats = dv.transform(X_valid[feats].fillna('-').T.to_dict().values())\n",
    "X_test_feats = dv.transform(X_test[feats].fillna('-').T.to_dict().values())"
   ]
  },
  {
   "cell_type": "code",
   "execution_count": 290,
   "metadata": {},
   "outputs": [
    {
     "data": {
      "text/plain": [
       "(93895, 17869)"
      ]
     },
     "execution_count": 290,
     "metadata": {},
     "output_type": "execute_result"
    }
   ],
   "source": [
    "X_train_feats.shape"
   ]
  },
  {
   "cell_type": "markdown",
   "metadata": {},
   "source": [
    "Соединим все полученные матрицы при помощи scipy.sparse.hstack()"
   ]
  },
  {
   "cell_type": "code",
   "execution_count": 291,
   "metadata": {},
   "outputs": [
    {
     "data": {
      "text/plain": [
       "(93895, 50624)"
      ]
     },
     "execution_count": 291,
     "metadata": {},
     "output_type": "execute_result"
    }
   ],
   "source": [
    "# значения td-idf по словам \n",
    "X_train_title.shape"
   ]
  },
  {
   "cell_type": "code",
   "execution_count": 292,
   "metadata": {},
   "outputs": [
    {
     "data": {
      "text/plain": [
       "(93895, 17869)"
      ]
     },
     "execution_count": 292,
     "metadata": {},
     "output_type": "execute_result"
    }
   ],
   "source": [
    "# Матрица признаков категориальные перешли в разряженную матрицу + OneHotEncoding (DictVect)\n",
    "X_train_feats.shape"
   ]
  },
  {
   "cell_type": "code",
   "execution_count": 293,
   "metadata": {},
   "outputs": [
    {
     "data": {
      "text/plain": [
       "(3990, 50624)"
      ]
     },
     "execution_count": 293,
     "metadata": {},
     "output_type": "execute_result"
    }
   ],
   "source": [
    "# значения td-idf по символам \n",
    "# число строк на число столбцов\n",
    "# X_train_title_ch.shape\n",
    "X_test_title.shape"
   ]
  },
  {
   "cell_type": "code",
   "execution_count": 315,
   "metadata": {},
   "outputs": [],
   "source": [
    "X_train_new = scipy.sparse.hstack([X_train_title, X_train_feats, X_train_title_ch])\n",
    "X_valid_new = scipy.sparse.hstack([X_valid_title, X_valid_feats, X_valid_title_ch])\n",
    "X_test_new =  scipy.sparse.hstack([X_test_title, X_test_feats, X_test_title_ch])"
   ]
  },
  {
   "cell_type": "code",
   "execution_count": 295,
   "metadata": {},
   "outputs": [
    {
     "data": {
      "text/plain": [
       "(93895, 68711)"
      ]
     },
     "execution_count": 295,
     "metadata": {},
     "output_type": "execute_result"
    }
   ],
   "source": [
    "# получили матрицу где для каждой бинарного идентификатора статьи, есть значения it-idf для каждого слова и для каждого символа\n",
    "X_train_new.shape"
   ]
  },
  {
   "cell_type": "markdown",
   "metadata": {},
   "source": [
    "## Обучение модели\n",
    "\n",
    "Далее будем использовать Ridge, линейную модель с l2-регуляризацией.\n",
    "[Документация](http://scikit-learn.org/stable/modules/generated/sklearn.linear_model.Ridge.html)\n",
    "\n",
    "Основной параметр Ridge - **alpha, коэффициент регуляризации**. Регуляризация используется для улучшения обобщающей способности модели - прибавляя к функционалу потерь сумму квадратов весов, умноженную на коэффициент регуляризации (та самая alpha), мы штрафуем модель за слишком большие значения весов и не позволяем ей переобучаться. Чем больше этот коээфициент, тем сильнее эффект."
   ]
  },
  {
   "cell_type": "markdown",
   "metadata": {},
   "source": [
    "**Обучите две модели на X_train_new, y_train, задав в первой alpha=0.1 и random_state = 1, а во второй alpha=1.0 и random_state = 1**\n",
    "\n",
    "**Рассчитайте среднеквадратичную ошибку каждой модели (mean_squared_error). Сравните значения ошибки на обучающей и тестовой выборках и ответьте на вопросы.**"
   ]
  },
  {
   "cell_type": "markdown",
   "metadata": {},
   "source": [
    "<font color='red'>Вопрос 6.</font> Выберите верные утверждения:\n",
    "- обе модели показывают одинаковый результат (среднеквадратичная ошибка отличается не больше чем на тысячные), регуляризация ничего не меняет\n",
    "- при alpha=0.1 модель переобучается\n",
    "- среднеквадратичная ошибка первой модели на тесте меньше\n",
    "- при alpha=1.0 у модели обобщающая способность лучше, чем у при alpha=0.1"
   ]
  },
  {
   "cell_type": "code",
   "execution_count": 296,
   "metadata": {},
   "outputs": [
    {
     "data": {
      "text/plain": [
       "((93895, 68711), (93895,))"
      ]
     },
     "execution_count": 296,
     "metadata": {},
     "output_type": "execute_result"
    }
   ],
   "source": [
    "X_train_new.shape, y_train.shape"
   ]
  },
  {
   "cell_type": "code",
   "execution_count": 306,
   "metadata": {},
   "outputs": [
    {
     "name": "stdout",
     "output_type": "stream",
     "text": [
      "Wall time: 3.19 s\n"
     ]
    },
    {
     "data": {
      "text/html": [
       "<style>#sk-container-id-7 {color: black;background-color: white;}#sk-container-id-7 pre{padding: 0;}#sk-container-id-7 div.sk-toggleable {background-color: white;}#sk-container-id-7 label.sk-toggleable__label {cursor: pointer;display: block;width: 100%;margin-bottom: 0;padding: 0.3em;box-sizing: border-box;text-align: center;}#sk-container-id-7 label.sk-toggleable__label-arrow:before {content: \"▸\";float: left;margin-right: 0.25em;color: #696969;}#sk-container-id-7 label.sk-toggleable__label-arrow:hover:before {color: black;}#sk-container-id-7 div.sk-estimator:hover label.sk-toggleable__label-arrow:before {color: black;}#sk-container-id-7 div.sk-toggleable__content {max-height: 0;max-width: 0;overflow: hidden;text-align: left;background-color: #f0f8ff;}#sk-container-id-7 div.sk-toggleable__content pre {margin: 0.2em;color: black;border-radius: 0.25em;background-color: #f0f8ff;}#sk-container-id-7 input.sk-toggleable__control:checked~div.sk-toggleable__content {max-height: 200px;max-width: 100%;overflow: auto;}#sk-container-id-7 input.sk-toggleable__control:checked~label.sk-toggleable__label-arrow:before {content: \"▾\";}#sk-container-id-7 div.sk-estimator input.sk-toggleable__control:checked~label.sk-toggleable__label {background-color: #d4ebff;}#sk-container-id-7 div.sk-label input.sk-toggleable__control:checked~label.sk-toggleable__label {background-color: #d4ebff;}#sk-container-id-7 input.sk-hidden--visually {border: 0;clip: rect(1px 1px 1px 1px);clip: rect(1px, 1px, 1px, 1px);height: 1px;margin: -1px;overflow: hidden;padding: 0;position: absolute;width: 1px;}#sk-container-id-7 div.sk-estimator {font-family: monospace;background-color: #f0f8ff;border: 1px dotted black;border-radius: 0.25em;box-sizing: border-box;margin-bottom: 0.5em;}#sk-container-id-7 div.sk-estimator:hover {background-color: #d4ebff;}#sk-container-id-7 div.sk-parallel-item::after {content: \"\";width: 100%;border-bottom: 1px solid gray;flex-grow: 1;}#sk-container-id-7 div.sk-label:hover label.sk-toggleable__label {background-color: #d4ebff;}#sk-container-id-7 div.sk-serial::before {content: \"\";position: absolute;border-left: 1px solid gray;box-sizing: border-box;top: 0;bottom: 0;left: 50%;z-index: 0;}#sk-container-id-7 div.sk-serial {display: flex;flex-direction: column;align-items: center;background-color: white;padding-right: 0.2em;padding-left: 0.2em;position: relative;}#sk-container-id-7 div.sk-item {position: relative;z-index: 1;}#sk-container-id-7 div.sk-parallel {display: flex;align-items: stretch;justify-content: center;background-color: white;position: relative;}#sk-container-id-7 div.sk-item::before, #sk-container-id-7 div.sk-parallel-item::before {content: \"\";position: absolute;border-left: 1px solid gray;box-sizing: border-box;top: 0;bottom: 0;left: 50%;z-index: -1;}#sk-container-id-7 div.sk-parallel-item {display: flex;flex-direction: column;z-index: 1;position: relative;background-color: white;}#sk-container-id-7 div.sk-parallel-item:first-child::after {align-self: flex-end;width: 50%;}#sk-container-id-7 div.sk-parallel-item:last-child::after {align-self: flex-start;width: 50%;}#sk-container-id-7 div.sk-parallel-item:only-child::after {width: 0;}#sk-container-id-7 div.sk-dashed-wrapped {border: 1px dashed gray;margin: 0 0.4em 0.5em 0.4em;box-sizing: border-box;padding-bottom: 0.4em;background-color: white;}#sk-container-id-7 div.sk-label label {font-family: monospace;font-weight: bold;display: inline-block;line-height: 1.2em;}#sk-container-id-7 div.sk-label-container {text-align: center;}#sk-container-id-7 div.sk-container {/* jupyter's `normalize.less` sets `[hidden] { display: none; }` but bootstrap.min.css set `[hidden] { display: none !important; }` so we also need the `!important` here to be able to override the default hidden behavior on the sphinx rendered scikit-learn.org. See: https://github.com/scikit-learn/scikit-learn/issues/21755 */display: inline-block !important;position: relative;}#sk-container-id-7 div.sk-text-repr-fallback {display: none;}</style><div id=\"sk-container-id-7\" class=\"sk-top-container\"><div class=\"sk-text-repr-fallback\"><pre>Ridge(alpha=0.1, random_state=1)</pre><b>In a Jupyter environment, please rerun this cell to show the HTML representation or trust the notebook. <br />On GitHub, the HTML representation is unable to render, please try loading this page with nbviewer.org.</b></div><div class=\"sk-container\" hidden><div class=\"sk-item\"><div class=\"sk-estimator sk-toggleable\"><input class=\"sk-toggleable__control sk-hidden--visually\" id=\"sk-estimator-id-7\" type=\"checkbox\" checked><label for=\"sk-estimator-id-7\" class=\"sk-toggleable__label sk-toggleable__label-arrow\">Ridge</label><div class=\"sk-toggleable__content\"><pre>Ridge(alpha=0.1, random_state=1)</pre></div></div></div></div></div>"
      ],
      "text/plain": [
       "Ridge(alpha=0.1, random_state=1)"
      ]
     },
     "execution_count": 306,
     "metadata": {},
     "output_type": "execute_result"
    }
   ],
   "source": [
    "%%time\n",
    "model1 = Ridge(alpha=0.1, random_state=1)\n",
    "model1.fit(X_train_new, y_train)"
   ]
  },
  {
   "cell_type": "code",
   "execution_count": 301,
   "metadata": {},
   "outputs": [
    {
     "name": "stdout",
     "output_type": "stream",
     "text": [
      "Ошибка на трейне 0.18452294294975494\n",
      "Ошибка на тесте 0.9032779326236234\n"
     ]
    }
   ],
   "source": [
    "train_preds1 = model1.predict(X_train_new)\n",
    "valid_preds1 = model1.predict(X_valid_new)\n",
    "\n",
    "print('Ошибка на трейне', mean_squared_error(y_train, train_preds1))\n",
    "print('Ошибка на тесте', mean_squared_error(y_valid, valid_preds1))"
   ]
  },
  {
   "cell_type": "code",
   "execution_count": 307,
   "metadata": {},
   "outputs": [
    {
     "name": "stdout",
     "output_type": "stream",
     "text": [
      "Wall time: 1.86 s\n"
     ]
    },
    {
     "data": {
      "text/html": [
       "<style>#sk-container-id-8 {color: black;background-color: white;}#sk-container-id-8 pre{padding: 0;}#sk-container-id-8 div.sk-toggleable {background-color: white;}#sk-container-id-8 label.sk-toggleable__label {cursor: pointer;display: block;width: 100%;margin-bottom: 0;padding: 0.3em;box-sizing: border-box;text-align: center;}#sk-container-id-8 label.sk-toggleable__label-arrow:before {content: \"▸\";float: left;margin-right: 0.25em;color: #696969;}#sk-container-id-8 label.sk-toggleable__label-arrow:hover:before {color: black;}#sk-container-id-8 div.sk-estimator:hover label.sk-toggleable__label-arrow:before {color: black;}#sk-container-id-8 div.sk-toggleable__content {max-height: 0;max-width: 0;overflow: hidden;text-align: left;background-color: #f0f8ff;}#sk-container-id-8 div.sk-toggleable__content pre {margin: 0.2em;color: black;border-radius: 0.25em;background-color: #f0f8ff;}#sk-container-id-8 input.sk-toggleable__control:checked~div.sk-toggleable__content {max-height: 200px;max-width: 100%;overflow: auto;}#sk-container-id-8 input.sk-toggleable__control:checked~label.sk-toggleable__label-arrow:before {content: \"▾\";}#sk-container-id-8 div.sk-estimator input.sk-toggleable__control:checked~label.sk-toggleable__label {background-color: #d4ebff;}#sk-container-id-8 div.sk-label input.sk-toggleable__control:checked~label.sk-toggleable__label {background-color: #d4ebff;}#sk-container-id-8 input.sk-hidden--visually {border: 0;clip: rect(1px 1px 1px 1px);clip: rect(1px, 1px, 1px, 1px);height: 1px;margin: -1px;overflow: hidden;padding: 0;position: absolute;width: 1px;}#sk-container-id-8 div.sk-estimator {font-family: monospace;background-color: #f0f8ff;border: 1px dotted black;border-radius: 0.25em;box-sizing: border-box;margin-bottom: 0.5em;}#sk-container-id-8 div.sk-estimator:hover {background-color: #d4ebff;}#sk-container-id-8 div.sk-parallel-item::after {content: \"\";width: 100%;border-bottom: 1px solid gray;flex-grow: 1;}#sk-container-id-8 div.sk-label:hover label.sk-toggleable__label {background-color: #d4ebff;}#sk-container-id-8 div.sk-serial::before {content: \"\";position: absolute;border-left: 1px solid gray;box-sizing: border-box;top: 0;bottom: 0;left: 50%;z-index: 0;}#sk-container-id-8 div.sk-serial {display: flex;flex-direction: column;align-items: center;background-color: white;padding-right: 0.2em;padding-left: 0.2em;position: relative;}#sk-container-id-8 div.sk-item {position: relative;z-index: 1;}#sk-container-id-8 div.sk-parallel {display: flex;align-items: stretch;justify-content: center;background-color: white;position: relative;}#sk-container-id-8 div.sk-item::before, #sk-container-id-8 div.sk-parallel-item::before {content: \"\";position: absolute;border-left: 1px solid gray;box-sizing: border-box;top: 0;bottom: 0;left: 50%;z-index: -1;}#sk-container-id-8 div.sk-parallel-item {display: flex;flex-direction: column;z-index: 1;position: relative;background-color: white;}#sk-container-id-8 div.sk-parallel-item:first-child::after {align-self: flex-end;width: 50%;}#sk-container-id-8 div.sk-parallel-item:last-child::after {align-self: flex-start;width: 50%;}#sk-container-id-8 div.sk-parallel-item:only-child::after {width: 0;}#sk-container-id-8 div.sk-dashed-wrapped {border: 1px dashed gray;margin: 0 0.4em 0.5em 0.4em;box-sizing: border-box;padding-bottom: 0.4em;background-color: white;}#sk-container-id-8 div.sk-label label {font-family: monospace;font-weight: bold;display: inline-block;line-height: 1.2em;}#sk-container-id-8 div.sk-label-container {text-align: center;}#sk-container-id-8 div.sk-container {/* jupyter's `normalize.less` sets `[hidden] { display: none; }` but bootstrap.min.css set `[hidden] { display: none !important; }` so we also need the `!important` here to be able to override the default hidden behavior on the sphinx rendered scikit-learn.org. See: https://github.com/scikit-learn/scikit-learn/issues/21755 */display: inline-block !important;position: relative;}#sk-container-id-8 div.sk-text-repr-fallback {display: none;}</style><div id=\"sk-container-id-8\" class=\"sk-top-container\"><div class=\"sk-text-repr-fallback\"><pre>Ridge(random_state=1)</pre><b>In a Jupyter environment, please rerun this cell to show the HTML representation or trust the notebook. <br />On GitHub, the HTML representation is unable to render, please try loading this page with nbviewer.org.</b></div><div class=\"sk-container\" hidden><div class=\"sk-item\"><div class=\"sk-estimator sk-toggleable\"><input class=\"sk-toggleable__control sk-hidden--visually\" id=\"sk-estimator-id-8\" type=\"checkbox\" checked><label for=\"sk-estimator-id-8\" class=\"sk-toggleable__label sk-toggleable__label-arrow\">Ridge</label><div class=\"sk-toggleable__content\"><pre>Ridge(random_state=1)</pre></div></div></div></div></div>"
      ],
      "text/plain": [
       "Ridge(random_state=1)"
      ]
     },
     "execution_count": 307,
     "metadata": {},
     "output_type": "execute_result"
    }
   ],
   "source": [
    "%%time\n",
    "model2 = Ridge(alpha=1.0, random_state=1)\n",
    "model2.fit(X_train_new, y_train)"
   ]
  },
  {
   "cell_type": "code",
   "execution_count": 308,
   "metadata": {},
   "outputs": [
    {
     "name": "stdout",
     "output_type": "stream",
     "text": [
      "Ошибка на трейне 0.2866180639116213\n",
      "Ошибка на тесте 0.7007660439108192\n"
     ]
    }
   ],
   "source": [
    "train_preds2 = model2.predict(X_train_new)\n",
    "valid_preds2 = model2.predict(X_valid_new)\n",
    "\n",
    "print('Ошибка на трейне',mean_squared_error(y_train, train_preds2))\n",
    "print('Ошибка на тесте',mean_squared_error(y_valid, valid_preds2))"
   ]
  },
  {
   "cell_type": "markdown",
   "metadata": {},
   "source": [
    "**Ответ: 2, 4**"
   ]
  },
  {
   "cell_type": "markdown",
   "metadata": {},
   "source": [
    "## Baseline\n",
    "\n",
    "**Теперь попытаемся получить бейзлайн для соревования - используйте Ridge с параметрами по умолчанию и обучите модель на всех данных - соедините X_train_new X_valid_new (используйте scipy.sparse.vstack()), а целевой переменной будет y.**"
   ]
  },
  {
   "cell_type": "code",
   "execution_count": 317,
   "metadata": {},
   "outputs": [],
   "source": [
    "X_train_all = scipy.sparse.vstack([X_train_new, X_valid_new])"
   ]
  },
  {
   "cell_type": "code",
   "execution_count": 320,
   "metadata": {},
   "outputs": [
    {
     "name": "stdout",
     "output_type": "stream",
     "text": [
      "Wall time: 2.67 s\n"
     ]
    }
   ],
   "source": [
    "%%time\n",
    "model = Ridge(random_state=42)\n",
    "\n",
    "model.fit(X_train_all, y)\n",
    "\n",
    "test_preds = model.predict(X_test_new)"
   ]
  },
  {
   "cell_type": "code",
   "execution_count": 326,
   "metadata": {},
   "outputs": [],
   "source": [
    "sample_submission = pd.read_csv('./../data/habr_sample_submission.csv', \n",
    "                                index_col='url')"
   ]
  },
  {
   "cell_type": "code",
   "execution_count": 327,
   "metadata": {},
   "outputs": [
    {
     "data": {
      "text/html": [
       "<div>\n",
       "<style scoped>\n",
       "    .dataframe tbody tr th:only-of-type {\n",
       "        vertical-align: middle;\n",
       "    }\n",
       "\n",
       "    .dataframe tbody tr th {\n",
       "        vertical-align: top;\n",
       "    }\n",
       "\n",
       "    .dataframe thead th {\n",
       "        text-align: right;\n",
       "    }\n",
       "</style>\n",
       "<table border=\"1\" class=\"dataframe\">\n",
       "  <thead>\n",
       "    <tr style=\"text-align: right;\">\n",
       "      <th></th>\n",
       "      <th>favs_lognorm</th>\n",
       "    </tr>\n",
       "    <tr>\n",
       "      <th>url</th>\n",
       "      <th></th>\n",
       "    </tr>\n",
       "  </thead>\n",
       "  <tbody>\n",
       "    <tr>\n",
       "      <th>https://habrahabr.ru/post/314080/</th>\n",
       "      <td>0.323588</td>\n",
       "    </tr>\n",
       "    <tr>\n",
       "      <th>https://habrahabr.ru/company/plesk/blog/313732/</th>\n",
       "      <td>0.560105</td>\n",
       "    </tr>\n",
       "    <tr>\n",
       "      <th>https://habrahabr.ru/company/etagi/blog/314000/</th>\n",
       "      <td>0.667039</td>\n",
       "    </tr>\n",
       "    <tr>\n",
       "      <th>https://habrahabr.ru/company/knopka/blog/314030/</th>\n",
       "      <td>0.149563</td>\n",
       "    </tr>\n",
       "    <tr>\n",
       "      <th>https://geektimes.ru/company/audiomania/blog/282058/</th>\n",
       "      <td>0.670754</td>\n",
       "    </tr>\n",
       "  </tbody>\n",
       "</table>\n",
       "</div>"
      ],
      "text/plain": [
       "                                                    favs_lognorm\n",
       "url                                                             \n",
       "https://habrahabr.ru/post/314080/                       0.323588\n",
       "https://habrahabr.ru/company/plesk/blog/313732/         0.560105\n",
       "https://habrahabr.ru/company/etagi/blog/314000/         0.667039\n",
       "https://habrahabr.ru/company/knopka/blog/314030/        0.149563\n",
       "https://geektimes.ru/company/audiomania/blog/28...      0.670754"
      ]
     },
     "execution_count": 327,
     "metadata": {},
     "output_type": "execute_result"
    }
   ],
   "source": [
    "sample_submission.head()"
   ]
  },
  {
   "cell_type": "code",
   "execution_count": 328,
   "metadata": {},
   "outputs": [],
   "source": [
    "ridge_submission = sample_submission.copy()\n",
    "ridge_submission['favs_lognorm'] = test_preds\n",
    "# это будет бейзлайн \"Простое решение\"\n",
    "ridge_submission.to_csv('./ridge_baseline.csv') "
   ]
  },
  {
   "cell_type": "markdown",
   "metadata": {},
   "source": [
    "**Итоговый score: 0.68995**"
   ]
  },
  {
   "cell_type": "markdown",
   "metadata": {},
   "source": [
    "***Все ответы верны***"
   ]
  }
 ],
 "metadata": {
  "anaconda-cloud": {},
  "kernelspec": {
   "display_name": "Python 3 (ipykernel)",
   "language": "python",
   "name": "python3"
  },
  "language_info": {
   "codemirror_mode": {
    "name": "ipython",
    "version": 3
   },
   "file_extension": ".py",
   "mimetype": "text/x-python",
   "name": "python",
   "nbconvert_exporter": "python",
   "pygments_lexer": "ipython3",
   "version": "3.9.7"
  }
 },
 "nbformat": 4,
 "nbformat_minor": 1
}
